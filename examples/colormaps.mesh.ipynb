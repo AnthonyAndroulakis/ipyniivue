{
 "cells": [
  {
   "cell_type": "markdown",
   "id": "3f68cd5d-4213-44e2-b1db-fae4bebb7a5d",
   "metadata": {},
   "source": [
    "Prepare images"
   ]
  },
  {
   "cell_type": "code",
   "execution_count": null,
   "id": "c36ea7c1-438a-462e-b796-92c586424af8",
   "metadata": {},
   "outputs": [],
   "source": [
    "!mkdir -p ../images/\n",
    "path = \"https://niivue.github.io/niivue/images/\"\n",
    "!wget -nc {path}BrainMesh_ICBM152.lh.mz3 -P ../images/\n",
    "!wget -nc {path}BrainMesh_ICBM152.lh.motor.mz3 -P ../images/\n",
    "!wget -nc {path}BrainMesh_ICBM152.lh.curv -P ../images/"
   ]
  },
  {
   "cell_type": "markdown",
   "id": "1d522f34-35e0-452c-808d-2d45a9ee9c37",
   "metadata": {},
   "source": [
    "Create instance of niivue"
   ]
  },
  {
   "cell_type": "code",
   "execution_count": null,
   "id": "b4444b81-5bfe-46cc-af63-f6044d04fb80",
   "metadata": {},
   "outputs": [],
   "source": [
    "from ipyniivue import NiiVue\n",
    "\n",
    "nv = NiiVue(back_color=(0.3, 0.3, 0.3, 1))\n",
    "\n",
    "meshLHLayersList1 = [\n",
    "    {\n",
    "        'path': '../images/BrainMesh_ICBM152.lh.curv',\n",
    "        'colormap': 'gray',\n",
    "        'cal_min': 0.3,\n",
    "        'cal_max': 0.5,\n",
    "        'opacity': 0.7,\n",
    "    },\n",
    "    {\n",
    "        'path': '../images/BrainMesh_ICBM152.lh.motor.mz3',\n",
    "        'cal_min': 1.64,\n",
    "        'cal_max': 5,\n",
    "        'colormap': 'warm',\n",
    "        'colormap_negative': 'winter',\n",
    "        'use_negative_cmap': True,\n",
    "        'opacity': 0.7,\n",
    "    },\n",
    "]\n",
    "\n",
    "nv.load_meshes([\n",
    "    {\n",
    "        'path': '../images/BrainMesh_ICBM152.lh.mz3',\n",
    "        'layers': meshLHLayersList1,\n",
    "    }\n",
    "])\n",
    "\n",
    "nv.is_colorbar = True"
   ]
  },
  {
   "cell_type": "markdown",
   "id": "55820127-9917-4e54-aa48-bf1e169ee4c6",
   "metadata": {},
   "source": [
    "Create interactive widgets"
   ]
  },
  {
   "cell_type": "code",
   "execution_count": null,
   "id": "19ea4d11-94cc-4d7a-ba4d-21e407c18939",
   "metadata": {},
   "outputs": [],
   "source": [
    "import ipywidgets as widgets\n",
    "from IPython.display import display\n",
    "\n",
    "# Invert Checkbox\n",
    "invert_check = widgets.Checkbox(\n",
    "    value=False,\n",
    "    description='Invert',\n",
    ")\n",
    "\n",
    "def on_invert_change(change):\n",
    "    nv.set_mesh_layer_property(nv.meshes[0].id, 1, 'colormap_invert', change['new'])\n",
    "    nv.update_gl_volume()\n",
    "\n",
    "invert_check.observe(on_invert_change, names='value')\n",
    "\n",
    "# Curvature Slider\n",
    "curve_slider = widgets.IntSlider(\n",
    "    value=7,\n",
    "    min=0,\n",
    "    max=10,\n",
    "    step=1,\n",
    "    description='Curvature',\n",
    ")\n",
    "\n",
    "def on_curve_slider_change(change):\n",
    "    nv.set_mesh_layer_property(nv.meshes[0].id, 0, 'opacity', change['new'] * 0.1)\n",
    "    nv.update_gl_volume()\n",
    "\n",
    "curve_slider.observe(on_curve_slider_change, names='value')\n",
    "\n",
    "# Opacity Slider\n",
    "opacity_slider = widgets.IntSlider(\n",
    "    value=7,\n",
    "    min=0,\n",
    "    max=10,\n",
    "    step=1,\n",
    "    description='Opacity',\n",
    ")\n",
    "\n",
    "def on_opacity_slider_change(change):\n",
    "    nv.set_mesh_layer_property(nv.meshes[0].id, 1, 'opacity', change['new'] * 0.1)\n",
    "    nv.update_gl_volume()\n",
    "\n",
    "opacity_slider.observe(on_opacity_slider_change, names='value')\n",
    "\n",
    "# Save Bitmap Button\n",
    "save_bmp_button = widgets.Button(\n",
    "    description='Save Bitmap',\n",
    ")\n",
    "\n",
    "def on_save_bmp_clicked(b):\n",
    "    nv.save_scene('ScreenShot.png')\n",
    "    with out:\n",
    "        from IPython.display import clear_output\n",
    "        clear_output(wait=True)\n",
    "        print(\"Scene saved as 'ScreenShot.png'\")\n",
    "\n",
    "save_bmp_button.on_click(on_save_bmp_clicked)\n",
    "\n",
    "# Output widget for messages\n",
    "out = widgets.Output()"
   ]
  },
  {
   "cell_type": "markdown",
   "id": "25290c1d-4992-45fb-a601-12ae69278856",
   "metadata": {},
   "source": [
    "Create the colormap header buttons"
   ]
  },
  {
   "cell_type": "code",
   "execution_count": null,
   "id": "dba89d89-9870-4b5b-943e-b87718b537e1",
   "metadata": {},
   "outputs": [],
   "source": [
    "import math\n",
    "\n",
    "# Get available colormaps\n",
    "colormaps = nv.colormaps()\n",
    "colormap_buttons = []\n",
    "\n",
    "def create_colormap_button(name):\n",
    "    btn = widgets.Button(description=name)\n",
    "    def on_click(b):\n",
    "        nv.set_mesh_layer_property(nv.meshes[0].id, 1, 'colormap', name)\n",
    "        nv.update_gl_volume()\n",
    "    btn.on_click(on_click)\n",
    "    return btn\n",
    "\n",
    "colormap_buttons = [create_colormap_button(name) for name in colormaps]\n",
    "\n",
    "# Organize colormap buttons in a grid\n",
    "num_cols = 10\n",
    "num_rows = math.ceil(len(colormap_buttons) / num_cols)\n",
    "colormap_grid = []\n",
    "\n",
    "for i in range(num_rows):\n",
    "    row_buttons = colormap_buttons[i*num_cols:(i+1)*num_cols]\n",
    "    colormap_grid.append(widgets.HBox(row_buttons))\n",
    "\n",
    "colormap_buttons_widget = widgets.VBox(colormap_grid)"
   ]
  },
  {
   "cell_type": "markdown",
   "id": "4e53f48a-867b-4195-881b-c800e17ffc90",
   "metadata": {},
   "source": [
    "Display"
   ]
  },
  {
   "cell_type": "code",
   "execution_count": null,
   "id": "0dd22c2c-0c0c-4b03-9b56-9af6020b9b60",
   "metadata": {},
   "outputs": [],
   "source": [
    "# Display header controls\n",
    "header_controls = widgets.HBox([\n",
    "    invert_check,\n",
    "    curve_slider,\n",
    "    opacity_slider,\n",
    "    save_bmp_button,\n",
    "])\n",
    "\n",
    "display(header_controls)\n",
    "display(nv)\n",
    "\n",
    "# Display footer with colormap buttons\n",
    "display(colormap_buttons_widget)\n",
    "\n",
    "# Print output\n",
    "display(out)"
   ]
  },
  {
   "cell_type": "code",
   "execution_count": null,
   "id": "9d0ef0e6-aae5-447d-8f03-1aca23c79732",
   "metadata": {},
   "outputs": [],
   "source": []
  }
 ],
 "metadata": {
  "kernelspec": {
   "display_name": "Python 3 (ipykernel)",
   "language": "python",
   "name": "python3"
  },
  "language_info": {
   "codemirror_mode": {
    "name": "ipython",
    "version": 3
   },
   "file_extension": ".py",
   "mimetype": "text/x-python",
   "name": "python",
   "nbconvert_exporter": "python",
   "pygments_lexer": "ipython3",
   "version": "3.9.13"
  },
  "widgets": {
   "application/vnd.jupyter.widget-state+json": {
    "state": {},
    "version_major": 2,
    "version_minor": 0
   }
  }
 },
 "nbformat": 4,
 "nbformat_minor": 5
}
