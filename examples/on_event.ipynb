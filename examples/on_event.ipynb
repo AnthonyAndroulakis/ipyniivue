{
 "cells": [
  {
   "cell_type": "code",
   "execution_count": null,
   "id": "93bdb4d8-14a4-42ba-b80f-554f823c9c6a",
   "metadata": {},
   "outputs": [],
   "source": [
    "!mkdir -p ../images/\n",
    "path = \"https://github.com/niivue/niivue/raw/main/packages/niivue/demos/images/\"\n",
    "!wget {path}mni152.nii.gz -P ../images/\n",
    "!wget {path}hippo.nii.gz -P ../images/"
   ]
  },
  {
   "cell_type": "code",
   "execution_count": null,
   "id": "7dea48af-cb5f-4a1c-afe4-46ae3c83cd1d",
   "metadata": {},
   "outputs": [],
   "source": [
    "from IPython.display import display\n",
    "from ipywidgets import Output\n",
    "\n",
    "from ipyniivue import NiiVue, SliceType\n",
    "\n",
    "# Initialize a NiiVue widget\n",
    "nv = NiiVue(slice_type=SliceType.MULTIPLANAR)\n",
    "\n",
    "\n",
    "# Create an output widget to capture print statements\n",
    "out = Output()\n",
    "display(out)\n",
    "\n",
    "\n",
    "# Callback function for when an image is loaded\n",
    "def on_image_loaded(volume):\n",
    "    with out:\n",
    "        print(\"Image loaded:\", volume)\n",
    "\n",
    "\n",
    "# Register the callback\n",
    "nv.on_image_loaded(on_image_loaded)\n"
   ]
  },
  {
   "cell_type": "code",
   "execution_count": null,
   "id": "d70957d1-9fa5-4810-82fc-c3be4b48d17b",
   "metadata": {},
   "outputs": [],
   "source": [
    "# Load volumes\n",
    "nv.load_volumes(\n",
    "    [\n",
    "        {\n",
    "            \"path\": \"../images/mni152.nii.gz\",\n",
    "            \"colormap\": \"gray\",\n",
    "            \"visible\": True,\n",
    "            \"opacity\": 1.0,\n",
    "        },\n",
    "        {\n",
    "            \"path\": \"../images/hippo.nii.gz\",\n",
    "            \"colormap\": \"red\",\n",
    "            \"visible\": True,\n",
    "            \"opacity\": 1,\n",
    "        },\n",
    "    ]\n",
    ")\n",
    "\n",
    "# Display the widget\n",
    "nv"
   ]
  },
  {
   "cell_type": "code",
   "execution_count": null,
   "id": "13d9dd01-3fad-4033-acea-c429753a18cd",
   "metadata": {},
   "outputs": [],
   "source": [
    "nv.volumes"
   ]
  },
  {
   "cell_type": "code",
   "execution_count": null,
   "id": "4286421a-e1eb-41e9-80a4-e0fae99a3c27",
   "metadata": {},
   "outputs": [],
   "source": [
    "nv._event_handlers"
   ]
  },
  {
   "cell_type": "code",
   "execution_count": null,
   "id": "7c528b6e-1ffe-43fc-a997-f2629fd0f5ca",
   "metadata": {},
   "outputs": [],
   "source": [
    "nv.meshes"
   ]
  },
  {
   "cell_type": "code",
   "execution_count": null,
   "id": "a8f78736-184d-43a2-b93f-fc8fe5d899e7",
   "metadata": {},
   "outputs": [],
   "source": []
  }
 ],
 "metadata": {
  "kernelspec": {
   "display_name": "Python 3 (ipykernel)",
   "language": "python",
   "name": "python3"
  },
  "language_info": {
   "codemirror_mode": {
    "name": "ipython",
    "version": 3
   },
   "file_extension": ".py",
   "mimetype": "text/x-python",
   "name": "python",
   "nbconvert_exporter": "python",
   "pygments_lexer": "ipython3",
   "version": "3.9.13"
  },
  "widgets": {
   "application/vnd.jupyter.widget-state+json": {
    "state": {},
    "version_major": 2,
    "version_minor": 0
   }
  }
 },
 "nbformat": 4,
 "nbformat_minor": 5
}
