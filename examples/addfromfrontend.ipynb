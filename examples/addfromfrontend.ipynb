{
 "cells": [
  {
   "cell_type": "code",
   "execution_count": null,
   "id": "a3b2f166-65ac-4daf-8697-9c8b8e264591",
   "metadata": {},
   "outputs": [],
   "source": [
    "!mkdir -p ../images/\n",
    "path = \"https://github.com/niivue/niivue/raw/main/packages/niivue/demos/images/\"\n",
    "!wget {path}mni152.nii.gz -P ../images/\n",
    "!wget {path}hippo.nii.gz -P ../images/"
   ]
  },
  {
   "cell_type": "code",
   "execution_count": null,
   "id": "37a1e7ad-ea43-4e2a-95e9-2eef3dc74a97",
   "metadata": {},
   "outputs": [],
   "source": [
    "nv = NiiVue()\n",
    "nv"
   ]
  },
  {
   "cell_type": "code",
   "execution_count": null,
   "id": "78169ab8-781c-4488-8259-47a6be43e625",
   "metadata": {},
   "outputs": [],
   "source": [
    "nv.volumes"
   ]
  },
  {
   "cell_type": "code",
   "execution_count": null,
   "id": "048cb1f7-db5b-48a4-a2d8-d5de2a4dfa73",
   "metadata": {},
   "outputs": [],
   "source": []
  }
 ],
 "metadata": {
  "kernelspec": {
   "display_name": "Python 3 (ipykernel)",
   "language": "python",
   "name": "python3"
  },
  "language_info": {
   "codemirror_mode": {
    "name": "ipython",
    "version": 3
   },
   "file_extension": ".py",
   "mimetype": "text/x-python",
   "name": "python",
   "nbconvert_exporter": "python",
   "pygments_lexer": "ipython3",
   "version": "3.9.13"
  },
  "widgets": {
   "application/vnd.jupyter.widget-state+json": {
    "state": {},
    "version_major": 2,
    "version_minor": 0
   }
  }
 },
 "nbformat": 4,
 "nbformat_minor": 5
}
