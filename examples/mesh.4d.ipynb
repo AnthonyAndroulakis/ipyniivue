{
 "cells": [
  {
   "cell_type": "code",
   "execution_count": null,
   "id": "cb856821-3061-46d7-8c11-b73525dfe68d",
   "metadata": {},
   "outputs": [],
   "source": [
    "!mkdir -p ../images/\n",
    "path = \"https://niivue.github.io/niivue/images/\"\n",
    "!wget -nc {path}Human.colin.Cerebral.R.VERY_INFLATED.71723.surf.gii -P ../images/\n",
    "!wget -nc {path}Human.colin.R.FUNCTIONAL.71723.func.gii -P ../images/"
   ]
  },
  {
   "cell_type": "code",
   "execution_count": null,
   "id": "45ba4675-32cd-4a89-ab5e-33eec2597d26",
   "metadata": {},
   "outputs": [],
   "source": [
    "import ipywidgets as widgets\n",
    "from ipyniivue import NiiVue, SliceType\n",
    "from IPython.display import display\n",
    "import os\n",
    "\n",
    "nv = NiiVue(\n",
    "    show_3d_crosshair=True,\n",
    "    back_color=(0.9, 0.9, 1, 1),\n",
    ")\n",
    "nv.set_slice_type(SliceType.RENDER)\n",
    "\n",
    "# Load meshes\n",
    "mesh_layers = [\n",
    "    {\n",
    "        \"path\": os.path.join(\"../images\", \"Human.colin.R.FUNCTIONAL.71723.func.gii\"),\n",
    "        \"colormap\": \"rocket\",\n",
    "        \"opacity\": 0.7,\n",
    "    },\n",
    "]\n",
    "\n",
    "meshes = [\n",
    "    {\n",
    "        \"path\": os.path.join(\"../images\", \"Human.colin.Cerebral.R.VERY_INFLATED.71723.surf.gii\"),\n",
    "        \"rgba255\": [255, 255, 255, 255],\n",
    "        \"layers\": mesh_layers\n",
    "    },\n",
    "]\n",
    "nv.load_meshes(meshes)\n",
    "\n",
    "# Set the clip plane\n",
    "nv.set_clip_plane(-0.1, 270, 0)"
   ]
  },
  {
   "cell_type": "code",
   "execution_count": null,
   "id": "44cffb51-66b6-4668-be46-78bd45ff9bfe",
   "metadata": {},
   "outputs": [],
   "source": [
    "# Timepoint Slider\n",
    "slider_timepoint = widgets.IntSlider(\n",
    "    min=0, max=1, value=0, description='Timepoint'\n",
    ")\n",
    "def on_timepoint_change(change):\n",
    "    nv.set_mesh_layer_property(nv.meshes[0].id, 0, 'frame4D', change['new'])\n",
    "\n",
    "slider_timepoint.observe(on_timepoint_change, names='value')\n",
    "\n",
    "# Opacity Slider\n",
    "slider_opacity = widgets.IntSlider(\n",
    "    min=1, max=10, value=7, description='Opacity'\n",
    ")\n",
    "def on_opacity_change(change):\n",
    "    nv.set_mesh_layer_property(nv.meshes[0].id, 0, 'opacity', change['new'] * 0.1)\n",
    "\n",
    "slider_opacity.observe(on_opacity_change, names='value')"
   ]
  },
  {
   "cell_type": "code",
   "execution_count": null,
   "id": "475cf9fe-f1a6-4d87-b8a7-4d2e5995289f",
   "metadata": {},
   "outputs": [],
   "source": [
    "shader_options = [\n",
    "  'Phong',\n",
    "  'Matte',\n",
    "  'Harmonic',\n",
    "  'Hemispheric',\n",
    "  'Crevice',\n",
    "  'Edge',\n",
    "  'Diffuse',\n",
    "  'Outline',\n",
    "  'Specular',\n",
    "  'Toon',\n",
    "  'Flat',\n",
    "  'Matcap'\n",
    "]\n",
    "\n",
    "shader_dropdown = widgets.Dropdown(\n",
    "    options=shader_options,\n",
    "    value='Phong',  # Default shader\n",
    "    description='Shader:'\n",
    ")\n",
    "\n",
    "def on_shader_change(change):\n",
    "    nv.set_mesh_shader(nv.meshes[0].id, change['new'])\n",
    "\n",
    "shader_dropdown.observe(on_shader_change, names='value')"
   ]
  },
  {
   "cell_type": "code",
   "execution_count": null,
   "id": "f3f74d15-aeaa-42fa-bf86-bf1a8c4758f2",
   "metadata": {},
   "outputs": [],
   "source": [
    "controls = widgets.HBox([slider_timepoint, slider_opacity, shader_dropdown])"
   ]
  },
  {
   "cell_type": "code",
   "execution_count": null,
   "id": "c89e658b-fd33-46f6-b74f-6ec47b25b514",
   "metadata": {},
   "outputs": [],
   "source": [
    "display(controls)\n",
    "display(nv)"
   ]
  },
  {
   "cell_type": "code",
   "execution_count": null,
   "id": "c5d46dd1-6396-4829-be76-5beede28dc0e",
   "metadata": {},
   "outputs": [],
   "source": []
  }
 ],
 "metadata": {
  "kernelspec": {
   "display_name": "Python 3 (ipykernel)",
   "language": "python",
   "name": "python3"
  },
  "language_info": {
   "codemirror_mode": {
    "name": "ipython",
    "version": 3
   },
   "file_extension": ".py",
   "mimetype": "text/x-python",
   "name": "python",
   "nbconvert_exporter": "python",
   "pygments_lexer": "ipython3",
   "version": "3.9.13"
  },
  "widgets": {
   "application/vnd.jupyter.widget-state+json": {
    "state": {},
    "version_major": 2,
    "version_minor": 0
   }
  }
 },
 "nbformat": 4,
 "nbformat_minor": 5
}
