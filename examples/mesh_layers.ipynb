{
 "cells": [
  {
   "cell_type": "code",
   "execution_count": 2,
   "id": "6606a337-3243-4041-a7b7-ec64136f245c",
   "metadata": {},
   "outputs": [
    {
     "name": "stdout",
     "output_type": "stream",
     "text": [
      "--2024-06-26 10:16:33--  https://github.com/niivue/niivue/raw/main/demos/images/BrainMesh_ICBM152.lh.mz3\n",
      "Resolving github.com (github.com)... 140.82.112.4\n",
      "Connecting to github.com (github.com)|140.82.112.4|:443... connected.\n",
      "HTTP request sent, awaiting response... 302 Found\n",
      "Location: https://raw.githubusercontent.com/niivue/niivue/main/demos/images/BrainMesh_ICBM152.lh.mz3 [following]\n",
      "--2024-06-26 10:16:33--  https://raw.githubusercontent.com/niivue/niivue/main/demos/images/BrainMesh_ICBM152.lh.mz3\n",
      "Resolving raw.githubusercontent.com (raw.githubusercontent.com)... 2606:50c0:8000::154, 2606:50c0:8001::154, 2606:50c0:8002::154, ...\n",
      "Connecting to raw.githubusercontent.com (raw.githubusercontent.com)|2606:50c0:8000::154|:443... connected.\n",
      "HTTP request sent, awaiting response... 200 OK\n",
      "Length: 779119 (761K) [application/octet-stream]\n",
      "Saving to: ‘../images/BrainMesh_ICBM152.lh.mz3’\n",
      "\n",
      "BrainMesh_ICBM152.l 100%[===================>] 760.86K  --.-KB/s    in 0.1s    \n",
      "\n",
      "2024-06-26 10:16:33 (7.67 MB/s) - ‘../images/BrainMesh_ICBM152.lh.mz3’ saved [779119/779119]\n",
      "\n",
      "--2024-06-26 10:16:33--  https://github.com/niivue/niivue/raw/main/demos/images/CIT168.mz3\n",
      "Resolving github.com (github.com)... 140.82.112.4\n",
      "Connecting to github.com (github.com)|140.82.112.4|:443... connected.\n",
      "HTTP request sent, awaiting response... 302 Found\n",
      "Location: https://raw.githubusercontent.com/niivue/niivue/main/demos/images/CIT168.mz3 [following]\n",
      "--2024-06-26 10:16:34--  https://raw.githubusercontent.com/niivue/niivue/main/demos/images/CIT168.mz3\n",
      "Resolving raw.githubusercontent.com (raw.githubusercontent.com)... 2606:50c0:8001::154, 2606:50c0:8002::154, 2606:50c0:8003::154, ...\n",
      "Connecting to raw.githubusercontent.com (raw.githubusercontent.com)|2606:50c0:8001::154|:443... connected.\n",
      "HTTP request sent, awaiting response... 200 OK\n",
      "Length: 406916 (397K) [application/octet-stream]\n",
      "Saving to: ‘../images/CIT168.mz3’\n",
      "\n",
      "CIT168.mz3          100%[===================>] 397.38K  --.-KB/s    in 0.06s   \n",
      "\n",
      "2024-06-26 10:16:34 (6.22 MB/s) - ‘../images/CIT168.mz3’ saved [406916/406916]\n",
      "\n",
      "--2024-06-26 10:16:34--  https://github.com/niivue/niivue/raw/main/demos/images/BrainMesh_ICBM152.lh.motor.mz3\n",
      "Resolving github.com (github.com)... 140.82.112.4\n",
      "Connecting to github.com (github.com)|140.82.112.4|:443... connected.\n",
      "HTTP request sent, awaiting response... 302 Found\n",
      "Location: https://raw.githubusercontent.com/niivue/niivue/main/demos/images/BrainMesh_ICBM152.lh.motor.mz3 [following]\n",
      "--2024-06-26 10:16:34--  https://raw.githubusercontent.com/niivue/niivue/main/demos/images/BrainMesh_ICBM152.lh.motor.mz3\n",
      "Resolving raw.githubusercontent.com (raw.githubusercontent.com)... 2606:50c0:8002::154, 2606:50c0:8003::154, 2606:50c0:8000::154, ...\n",
      "Connecting to raw.githubusercontent.com (raw.githubusercontent.com)|2606:50c0:8002::154|:443... connected.\n",
      "HTTP request sent, awaiting response... 200 OK\n",
      "Length: 150304 (147K) [application/octet-stream]\n",
      "Saving to: ‘../images/BrainMesh_ICBM152.lh.motor.mz3’\n",
      "\n",
      "BrainMesh_ICBM152.l 100%[===================>] 146.78K  --.-KB/s    in 0.04s   \n",
      "\n",
      "2024-06-26 10:16:35 (3.38 MB/s) - ‘../images/BrainMesh_ICBM152.lh.motor.mz3’ saved [150304/150304]\n",
      "\n"
     ]
    }
   ],
   "source": [
    "!mkdir -p ../images/\n",
    "path=\"https://github.com/niivue/niivue/raw/main/demos/images/\"\n",
    "!wget {path}BrainMesh_ICBM152.lh.mz3 -P ../images/\n",
    "!wget {path}CIT168.mz3 -P ../images/\n",
    "!wget {path}BrainMesh_ICBM152.lh.motor.mz3 -P ../images/"
   ]
  },
  {
   "cell_type": "code",
   "execution_count": 4,
   "id": "36d80248-e8a6-4f27-92c5-98dabf2aec81",
   "metadata": {},
   "outputs": [
    {
     "data": {
      "application/vnd.jupyter.widget-view+json": {
       "model_id": "1992eb6742714197bde1dd598675cdde",
       "version_major": 2,
       "version_minor": 0
      },
      "text/plain": [
       "NiiVue()"
      ]
     },
     "metadata": {},
     "output_type": "display_data"
    }
   ],
   "source": [
    "from ipyniivue import NiiVue\n",
    "\n",
    "nv = NiiVue(\n",
    "    show_3d_crosshair=True, back_color=(1, 1, 1, 1),\n",
    "    mesh_x_ray=0.3, is_colorbar=True\n",
    ")\n",
    "\n",
    "mesh_layer = {\n",
    "    \"path\": \"../images/BrainMesh_ICBM152.lh.motor.mz3\",\n",
    "    \"cal_min\": 0.5,\n",
    "    \"cal_max\": 5.5,\n",
    "    \"useNegativeCmap\": True,\n",
    "    \"opacity\": 0.7,\n",
    "}\n",
    "\n",
    "nv.load_meshes(\n",
    "    [\n",
    "        {\n",
    "            \"path\": \"../images/BrainMesh_ICBM152.lh.mz3\",\n",
    "            \"rgba255\": [255, 255, 255, 255],\n",
    "            \"layers\": [mesh_layer],\n",
    "        },\n",
    "        {\"path\": \"../images/CIT168.mz3\", \"rgba255\": [0, 0, 255, 255]},\n",
    "    ]\n",
    ")\n",
    "\n",
    "nv"
   ]
  },
  {
   "cell_type": "code",
   "execution_count": 2,
   "id": "956fe2ef-3180-44cc-a81e-05efc783ee05",
   "metadata": {},
   "outputs": [],
   "source": [
    "nv.meshes[0].rgba255 = [0, 0, 0, 0]"
   ]
  },
  {
   "cell_type": "code",
   "execution_count": null,
   "id": "811a654f",
   "metadata": {},
   "outputs": [],
   "source": []
  }
 ],
 "metadata": {
  "kernelspec": {
   "display_name": "Python 3 (ipykernel)",
   "language": "python",
   "name": "python3"
  },
  "language_info": {
   "codemirror_mode": {
    "name": "ipython",
    "version": 3
   },
   "file_extension": ".py",
   "mimetype": "text/x-python",
   "name": "python",
   "nbconvert_exporter": "python",
   "pygments_lexer": "ipython3",
   "version": "3.9.7"
  },
  "widgets": {
   "application/vnd.jupyter.widget-state+json": {
    "state": {},
    "version_major": 2,
    "version_minor": 0
   }
  }
 },
 "nbformat": 4,
 "nbformat_minor": 5
}
