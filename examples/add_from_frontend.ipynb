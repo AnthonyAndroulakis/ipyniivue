{
 "cells": [
  {
   "cell_type": "code",
   "execution_count": null,
   "id": "a3b2f166-65ac-4daf-8697-9c8b8e264591",
   "metadata": {},
   "outputs": [],
   "source": [
    "!mkdir -p ../images/\n",
    "path = \"https://niivue.github.io/niivue/images/\"\n",
    "!wget -nc {path}mni152.nii.gz -P ../images/"
   ]
  },
  {
   "cell_type": "code",
   "execution_count": null,
   "id": "37a1e7ad-ea43-4e2a-95e9-2eef3dc74a97",
   "metadata": {},
   "outputs": [],
   "source": [
    "from ipyniivue import NiiVue\n",
    "\n",
    "nv = NiiVue()\n",
    "nv"
   ]
  },
  {
   "cell_type": "code",
   "execution_count": null,
   "id": "78169ab8-781c-4488-8259-47a6be43e625",
   "metadata": {},
   "outputs": [],
   "source": [
    "nv.volumes"
   ]
  },
  {
   "cell_type": "code",
   "execution_count": null,
   "id": "048cb1f7-db5b-48a4-a2d8-d5de2a4dfa73",
   "metadata": {},
   "outputs": [],
   "source": [
    "nv.volumes[0].opacity = 0.1"
   ]
  },
  {
   "cell_type": "code",
   "execution_count": null,
   "id": "892383d7-8866-4fce-8070-4b7d7e59c0f6",
   "metadata": {},
   "outputs": [],
   "source": [
    "nv"
   ]
  },
  {
   "cell_type": "code",
   "execution_count": null,
   "id": "484dc8b8-51f0-4e8d-89ab-b67ffa9ef4c2",
   "metadata": {},
   "outputs": [],
   "source": [
    "nv.volumes[0].opacity = 1"
   ]
  }
 ],
 "metadata": {
  "kernelspec": {
   "display_name": "Python 3 (ipykernel)",
   "language": "python",
   "name": "python3"
  },
  "language_info": {
   "codemirror_mode": {
    "name": "ipython",
    "version": 3
   },
   "file_extension": ".py",
   "mimetype": "text/x-python",
   "name": "python",
   "nbconvert_exporter": "python",
   "pygments_lexer": "ipython3",
   "version": "3.9.13"
  },
  "widgets": {
   "application/vnd.jupyter.widget-state+json": {
    "state": {},
    "version_major": 2,
    "version_minor": 0
   }
  }
 },
 "nbformat": 4,
 "nbformat_minor": 5
}
