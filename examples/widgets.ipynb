{
 "cells": [
  {
   "cell_type": "code",
   "execution_count": 1,
   "id": "f26da1e3-877f-4893-8baa-8b9460601205",
   "metadata": {},
   "outputs": [
    {
     "name": "stdout",
     "output_type": "stream",
     "text": [
      "--2024-10-30 19:58:19--  https://github.com/niivue/niivue/raw/main/demos/images/mni152.nii.gz\n",
      "Resolving github.com (github.com)... 140.82.114.3\n",
      "Connecting to github.com (github.com)|140.82.114.3|:443... connected.\n",
      "HTTP request sent, awaiting response... 302 Found\n",
      "Location: https://raw.githubusercontent.com/niivue/niivue/main/demos/images/mni152.nii.gz [following]\n",
      "--2024-10-30 19:58:20--  https://raw.githubusercontent.com/niivue/niivue/main/demos/images/mni152.nii.gz\n",
      "Resolving raw.githubusercontent.com (raw.githubusercontent.com)... 185.199.110.133, 185.199.111.133, 185.199.109.133, ...\n",
      "Connecting to raw.githubusercontent.com (raw.githubusercontent.com)|185.199.110.133|:443... connected.\n",
      "HTTP request sent, awaiting response... 200 OK\n",
      "Length: 4332921 (4.1M) [application/octet-stream]\n",
      "Saving to: ‘../images/mni152.nii.gz.1’\n",
      "\n",
      "mni152.nii.gz.1     100%[===================>]   4.13M  11.3MB/s    in 0.4s    \n",
      "\n",
      "2024-10-30 19:58:20 (11.3 MB/s) - ‘../images/mni152.nii.gz.1’ saved [4332921/4332921]\n",
      "\n",
      "--2024-10-30 19:58:21--  https://github.com/niivue/niivue/raw/main/demos/images/hippo.nii.gz\n",
      "Resolving github.com (github.com)... 140.82.114.3\n",
      "Connecting to github.com (github.com)|140.82.114.3|:443... connected.\n",
      "HTTP request sent, awaiting response... 302 Found\n",
      "Location: https://raw.githubusercontent.com/niivue/niivue/main/demos/images/hippo.nii.gz [following]\n",
      "--2024-10-30 19:58:21--  https://raw.githubusercontent.com/niivue/niivue/main/demos/images/hippo.nii.gz\n",
      "Resolving raw.githubusercontent.com (raw.githubusercontent.com)... 185.199.111.133, 185.199.109.133, 185.199.108.133, ...\n",
      "Connecting to raw.githubusercontent.com (raw.githubusercontent.com)|185.199.111.133|:443... connected.\n",
      "HTTP request sent, awaiting response... 200 OK\n",
      "Length: 4000 (3.9K) [application/octet-stream]\n",
      "Saving to: ‘../images/hippo.nii.gz.1’\n",
      "\n",
      "hippo.nii.gz.1      100%[===================>]   3.91K  --.-KB/s    in 0s      \n",
      "\n",
      "2024-10-30 19:58:21 (17.0 MB/s) - ‘../images/hippo.nii.gz.1’ saved [4000/4000]\n",
      "\n"
     ]
    }
   ],
   "source": [
    "!mkdir -p ../images/\n",
    "path=\"https://github.com/niivue/niivue/raw/main/demos/images/\"\n",
    "!wget {path}mni152.nii.gz -P ../images/\n",
    "!wget {path}hippo.nii.gz -P ../images/"
   ]
  },
  {
   "cell_type": "code",
   "execution_count": 15,
   "id": "cda3a5f6-5bed-4190-82a7-057e17fa6635",
   "metadata": {},
   "outputs": [],
   "source": [
    "import ipywidgets\n",
    "\n",
    "from ipyniivue import NiiVue, SliceType, WidgetChange\n",
    "\n",
    "volumes = [\n",
    "  { \"path\": \"../images/mni152.nii.gz\", \"colormap\": \"gray\",\n",
    "    \"visible\": True, \"opacity\": 1.0 },\n",
    "  { \"path\": \"../images/hippo.nii.gz\", \"colormap\": \"red\",\n",
    "    \"visible\": True, \"opacity\": 1.0 },\n",
    "]\n",
    "\n",
    "nv = NiiVue(slice_type=SliceType.MULTIPLANAR)\n",
    "nv.load_volumes(volumes)\n",
    "\n",
    "widgetArray = []\n",
    "\n",
    "widget_slice_type = {\n",
    "\n",
    "    \"widget\": ipywidgets.RadioButtons(\n",
    "        options=[('Axial', 0), ('Coronal', 1), ('Sagittal', 2),\n",
    "            ('Multiplanar', 3), ('Render', 4)],\n",
    "        value=3,\n",
    "        description='Slice Type:'),\n",
    "\n",
    "    \"object\": nv,\n",
    "\n",
    "    \"attribute\": \"slice_type\"\n",
    "}\n",
    "widgetArray.append(widget_slice_type)\n",
    "\n",
    "widget_scan_opacity = {\n",
    "\n",
    "    \"widget\": ipywidgets.FloatSlider(\n",
    "        value=1.0,\n",
    "        min=0.0,\n",
    "        max=1.0,\n",
    "        step=0.1,\n",
    "        description='Scan Opacity:',\n",
    "        orientation='horizontal'),\n",
    "\n",
    "    \"object\": nv.volumes[0],\n",
    "\n",
    "    \"attribute\": \"opacity\"\n",
    "}\n",
    "widgetArray.append(widget_scan_opacity)\n",
    "\n",
    "widget_hippo_opacity = {\n",
    "\n",
    "    \"widget\": ipywidgets.FloatSlider(\n",
    "        value=1.0,\n",
    "        min=0.0,\n",
    "        max=1.0,\n",
    "        step=0.1,\n",
    "        description='Hippocampus Opacity:',\n",
    "        orientation='horizontal'),\n",
    "\n",
    "    \"object\": nv.volumes[1],\n",
    "\n",
    "    \"attribute\": \"opacity\"\n",
    "}\n",
    "widgetArray.append(widget_hippo_opacity)\n",
    "\n",
    "widget_scan_colormap = {\n",
    "\n",
    "    \"widget\": ipywidgets.Select(\n",
    "        options=['Gray', 'Red', 'Blue', 'Green'],\n",
    "        value='Gray',\n",
    "        description='Scan Colormap:'),\n",
    "\n",
    "    \"object\": nv.volumes[0],\n",
    "\n",
    "    \"attribute\": \"colormap\"\n",
    "}\n",
    "widgetArray.append(widget_scan_colormap)\n",
    "\n",
    "widget_hippo_colormap = {\n",
    "\n",
    "    \"widget\": ipywidgets.Select(\n",
    "        options=['Red', 'Blue', 'Green', 'Gray'],\n",
    "        value='Red',\n",
    "        description='Hippocampus Colormap:'),\n",
    "\n",
    "    \"object\": nv.volumes[1],\n",
    "\n",
    "    \"attribute\": \"colormap\"\n",
    "}\n",
    "widgetArray.append(widget_hippo_colormap)\n",
    "\n",
    "for widget in widgetArray:\n",
    "    widget[\"widget\"].observe(WidgetChange(widget[\"object\"], widget[\"attribute\"])\n",
    "                             .widget_change, names=[\"value\"])"
   ]
  },
  {
   "cell_type": "code",
   "execution_count": 16,
   "id": "cce13351-2f24-49fb-b8f6-4bac07f7b2dc",
   "metadata": {},
   "outputs": [
    {
     "data": {
      "application/vnd.jupyter.widget-view+json": {
       "model_id": "01c94426b1234e748d9993e790be4fa1",
       "version_major": 2,
       "version_minor": 1
      },
      "text/plain": [
       "NiiVue(height=300)"
      ]
     },
     "execution_count": 16,
     "metadata": {},
     "output_type": "execute_result"
    }
   ],
   "source": [
    "nv"
   ]
  },
  {
   "cell_type": "code",
   "execution_count": 17,
   "id": "66b82692-c7b0-471d-8134-f399cf9ac399",
   "metadata": {},
   "outputs": [
    {
     "data": {
      "application/vnd.jupyter.widget-view+json": {
       "model_id": "4e35bb42260242db9ace11f0683e0f08",
       "version_major": 2,
       "version_minor": 0
      },
      "text/plain": [
       "RadioButtons(description='Slice Type:', index=3, options=(('Axial', 0), ('Coronal', 1), ('Sagittal', 2), ('Mul…"
      ]
     },
     "metadata": {},
     "output_type": "display_data"
    },
    {
     "data": {
      "application/vnd.jupyter.widget-view+json": {
       "model_id": "e4ac4f82ecea46b88a7e17bac3c0bf68",
       "version_major": 2,
       "version_minor": 0
      },
      "text/plain": [
       "FloatSlider(value=1.0, description='Scan Opacity:', max=1.0)"
      ]
     },
     "metadata": {},
     "output_type": "display_data"
    },
    {
     "data": {
      "application/vnd.jupyter.widget-view+json": {
       "model_id": "1ba127353adf47cf9cd37534e89e80de",
       "version_major": 2,
       "version_minor": 0
      },
      "text/plain": [
       "FloatSlider(value=1.0, description='Hippocampus Opacity:', max=1.0)"
      ]
     },
     "metadata": {},
     "output_type": "display_data"
    },
    {
     "data": {
      "application/vnd.jupyter.widget-view+json": {
       "model_id": "3a93377da9494b0f8bb04cb75f72db0d",
       "version_major": 2,
       "version_minor": 0
      },
      "text/plain": [
       "Select(description='Scan Colormap:', options=('Gray', 'Red', 'Blue', 'Green'), value='Gray')"
      ]
     },
     "metadata": {},
     "output_type": "display_data"
    },
    {
     "data": {
      "application/vnd.jupyter.widget-view+json": {
       "model_id": "ae55be56c0de4f8a84f954d69d69761b",
       "version_major": 2,
       "version_minor": 0
      },
      "text/plain": [
       "Select(description='Hippocampus Colormap:', options=('Red', 'Blue', 'Green', 'Gray'), value='Red')"
      ]
     },
     "metadata": {},
     "output_type": "display_data"
    }
   ],
   "source": [
    "for i in widgetArray:\n",
    "    display(i[\"widget\"])"
   ]
  },
  {
   "cell_type": "code",
   "execution_count": 9,
   "id": "b7da74be-a8be-4e00-9ff3-fde948ac72dc",
   "metadata": {},
   "outputs": [
    {
     "name": "stdout",
     "output_type": "stream",
     "text": [
      "RadioButtons(description='Slice Type:', index=3, options=(('Axial', 0), ('Coronal', 1), ('Sagittal', 2), ('Multiplanar', 3), ('Render', 4)), value=3)\n"
     ]
    }
   ],
   "source": [
    "print(widgetArray[0][\"widget\"])"
   ]
  },
  {
   "cell_type": "code",
   "execution_count": null,
   "id": "8c90b578-4b41-4e31-890a-6aca677317ed",
   "metadata": {},
   "outputs": [],
   "source": []
  }
 ],
 "metadata": {
  "kernelspec": {
   "display_name": "Python 3 (ipykernel)",
   "language": "python",
   "name": "python3"
  },
  "language_info": {
   "codemirror_mode": {
    "name": "ipython",
    "version": 3
   },
   "file_extension": ".py",
   "mimetype": "text/x-python",
   "name": "python",
   "nbconvert_exporter": "python",
   "pygments_lexer": "ipython3",
   "version": "3.12.3"
  }
 },
 "nbformat": 4,
 "nbformat_minor": 5
}
