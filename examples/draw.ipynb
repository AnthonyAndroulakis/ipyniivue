{
  "cells": [
    {
      "cell_type": "markdown",
      "source": [
        "# Drawing regions of interests on MRI volume"
      ],
      "metadata": {
        "id": "4ZgnMYV-eSGF"
      },
      "id": "4ZgnMYV-eSGF"
    },
    {
      "cell_type": "markdown",
      "source": [
        "### Installation\n",
        "This notebook can be ran on a local server or on a virtualized environement like Google Colab."
      ],
      "metadata": {
        "id": "XAkH6V576OdJ"
      },
      "id": "XAkH6V576OdJ"
    },
    {
      "cell_type": "code",
      "execution_count": 2,
      "id": "ccf06bf6",
      "metadata": {
        "id": "ccf06bf6",
        "outputId": "278518f0-94a1-4bfa-a362-bdb562879b4c",
        "colab": {
          "base_uri": "https://localhost:8080/"
        }
      },
      "outputs": [
        {
          "output_type": "stream",
          "name": "stdout",
          "text": [
            "\u001b[2K     \u001b[90m━━━━━━━━━━━━━━━━━━━━━━━━━━━━━━━━━━━━━━━━\u001b[0m \u001b[32m4.5/4.5 MB\u001b[0m \u001b[31m33.1 MB/s\u001b[0m eta \u001b[36m0:00:00\u001b[0m\n",
            "\u001b[2K     \u001b[90m━━━━━━━━━━━━━━━━━━━━━━━━━━━━━━━━━━━━━━━━\u001b[0m \u001b[32m1.6/1.6 MB\u001b[0m \u001b[31m56.9 MB/s\u001b[0m eta \u001b[36m0:00:00\u001b[0m\n",
            "\u001b[?25h"
          ]
        }
      ],
      "source": [
        "#run if using Google Colab or not building from source\n",
        "try:\n",
        "    # -q silence the output from pip. Remove this flag if you need \n",
        "    # to debug an installation issue.\n",
        "    %pip install -q ipyniivue\n",
        "    from google.colab import output\n",
        "    output.enable_custom_widget_manager()\n",
        "except:\n",
        "    pass"
      ]
    },
    {
      "cell_type": "markdown",
      "source": [
        "### Imports"
      ],
      "metadata": {
        "id": "WyYbxajT-m-V"
      },
      "id": "WyYbxajT-m-V"
    },
    {
      "cell_type": "code",
      "execution_count": 3,
      "id": "c513ae7d-8b2c-4a47-abf3-157c116767ac",
      "metadata": {
        "id": "c513ae7d-8b2c-4a47-abf3-157c116767ac"
      },
      "outputs": [],
      "source": [
        "from ipyniivue import Niivue\n",
        "import ipywidgets as widgets"
      ]
    },
    {
      "cell_type": "markdown",
      "source": [
        "# Creating the annotation window\n",
        "\n",
        "Creating a NiiVue window and a dropdown list to select the action to be performed. For example, select a color from the dropdown and use the left mouse button to draw on the volume. Click-drag with the right mouse button selects a region that will be used to normalize the contrast. "
      ],
      "metadata": {
        "id": "8qAMDgGL-xfE"
      },
      "id": "8qAMDgGL-xfE"
    },
    {
      "cell_type": "code",
      "execution_count": 4,
      "id": "df7ef898-0df2-4c95-a63e-a77b6011d245",
      "metadata": {
        "id": "df7ef898-0df2-4c95-a63e-a77b6011d245",
        "outputId": "8b514ba0-fbfd-45e2-c794-3322f062924d",
        "colab": {
          "base_uri": "https://localhost:8080/",
          "height": 533,
          "referenced_widgets": [
            "105b5c57c2a14201b419d0e130a0a1ae",
            "908c18cde9c94ee0a94a58f3f4d7997e",
            "6ec217a52ab84dbaa47e2002f826e266",
            "daa6de5f596945dab18586cfe6481c42",
            "ec294de4868c4fada0f9cd0357344f41"
          ]
        }
      },
      "outputs": [
        {
          "output_type": "display_data",
          "data": {
            "text/plain": [
              "ipyniivue.Niivue(back_color=[1.0, 1.0, 1.0, 1.0], clip_plane_color=[1.0, 1.0, 1.0, 0.5], crosshair_color=[1.0,…"
            ],
            "application/vnd.jupyter.widget-view+json": {
              "version_major": 2,
              "version_minor": 0,
              "model_id": "105b5c57c2a14201b419d0e130a0a1ae"
            }
          },
          "metadata": {
            "application/vnd.jupyter.widget-view+json": {
              "colab": {
                "custom_widget_manager": {
                  "url": "https://ssl.gstatic.com/colaboratory-static/widgets/colab-cdn-widget-manager/b3e629b1971e1542/manager.min.js"
                }
              }
            }
          }
        },
        {
          "output_type": "display_data",
          "data": {
            "text/plain": [
              "Dropdown(description='Draw color:', options=(('Off', -1), ('Erase', 0), ('Red', 1), ('Green', 2), ('Blue', 3),…"
            ],
            "application/vnd.jupyter.widget-view+json": {
              "version_major": 2,
              "version_minor": 0,
              "model_id": "6ec217a52ab84dbaa47e2002f826e266"
            }
          },
          "metadata": {
            "application/vnd.jupyter.widget-view+json": {
              "colab": {
                "custom_widget_manager": {
                  "url": "https://ssl.gstatic.com/colaboratory-static/widgets/colab-cdn-widget-manager/b3e629b1971e1542/manager.min.js"
                }
              }
            }
          }
        }
      ],
      "source": [
        "# Creating a NiiVue object\n",
        "nv = Niivue(back_color = [1,1,1,1], multiplanar_force_render = True)\n",
        "\n",
        "# Load a volume\n",
        "nv.add_volume(\"https://niivue.github.io/niivue/images/FLAIR.nii.gz\")\n",
        "nv.set_radiological_convention(False)\n",
        "nv.set_slice_type(nv.slice_type.multiplanar)\n",
        "\n",
        "# Load a lesion\n",
        "nv.load_drawing_from_url(\"https://niivue.github.io/niivue/images/lesion.nii.gz\")\n",
        "\n",
        "# Add a dropdown box\n",
        "dropvals = widgets.Dropdown(\n",
        "    options=[\n",
        "        ('Off', -1), \n",
        "        ('Erase', 0), \n",
        "        ('Red', 1),\n",
        "        ('Green', 2),\n",
        "        ('Blue', 3),\n",
        "        ('Filled Erase', 8),\n",
        "        ('Filled Red', 9),\n",
        "        ('Filled Green', 10),\n",
        "        ('Filled Blue', 11),\n",
        "        ('Erase Selected Cluster', 12)\n",
        "    ],\n",
        "    value=-1,\n",
        "    description='Draw color:',\n",
        ")\n",
        "\n",
        "def on_change(change):\n",
        "    if change['type'] == 'change' and change['name'] == 'value':\n",
        "        mode = change['new']\n",
        "        nv.set_drawing_enabled(mode >= 0)\n",
        "        if (mode >= 0):\n",
        "            nv.set_pen_value( mode & 7, mode > 7)\n",
        "        if (mode == 12): #erase selected cluster\n",
        "            nv.setPenValue(-0)\n",
        "\n",
        "dropvals.observe(on_change)\n",
        "\n",
        "# Display the niivue and dropdown widgets\n",
        "display(nv)\n",
        "display(dropvals)"
      ]
    }
  ],
  "metadata": {
    "kernelspec": {
      "display_name": "Python 3 (ipykernel)",
      "language": "python",
      "name": "python3"
    },
    "language_info": {
      "codemirror_mode": {
        "name": "ipython",
        "version": 3
      },
      "file_extension": ".py",
      "mimetype": "text/x-python",
      "name": "python",
      "nbconvert_exporter": "python",
      "pygments_lexer": "ipython3",
      "version": "3.11.3"
    },
    "colab": {
      "provenance": []
    },
    "widgets": {
      "application/vnd.jupyter.widget-state+json": {
        "105b5c57c2a14201b419d0e130a0a1ae": {
          "model_module": "ipyniivue",
          "model_name": "NiivueModel",
          "model_module_version": "^1.0.2",
          "state": {
            "_dom_classes": [],
            "_model_module": "ipyniivue",
            "_model_module_version": "^1.0.2",
            "_model_name": "NiivueModel",
            "_view_count": null,
            "_view_module": "ipyniivue",
            "_view_module_version": "^1.0.2",
            "_view_name": "NiivueView",
            "back_color": [
              1,
              1,
              1,
              1
            ],
            "clip_plane_color": [
              1,
              1,
              1,
              0.5
            ],
            "clip_plane_hot_key": "KeyC",
            "colorbar_height": 0.05,
            "colorbar_margin": 0.05,
            "crosshair_color": [
              1,
              0,
              0,
              1
            ],
            "crosshair_width": 1,
            "double_touch_timeout": 500,
            "drag_and_drop_enabled": true,
            "drag_mode": 1,
            "drawing_enabled": false,
            "font_color": [
              0.5,
              0.5,
              0.5,
              1
            ],
            "height": 480,
            "is_atlas_outline": false,
            "is_colorbar": false,
            "is_corner_orientation_text": false,
            "is_depth_pick_mesh": false,
            "is_filled_pen": false,
            "is_high_resolution_capable": true,
            "is_nearest_interpolation": false,
            "is_orient_cube": false,
            "is_radiological_convention": false,
            "is_ruler": false,
            "is_slice_MM": false,
            "key_debounce_time": 50,
            "layout": "IPY_MODEL_908c18cde9c94ee0a94a58f3f4d7997e",
            "loading_text": "waiting on images...",
            "long_touch_timeout": 1000,
            "max_draw_undo_bitmaps": 8,
            "mesh_thickness_on_2D": 1.7976931348623157e+308,
            "multiplanar_force_render": true,
            "multiplanar_pad_pixels": 0,
            "pen_value": 1.7976931348623157e+308,
            "ruler_color": [
              1,
              0,
              0,
              0.8
            ],
            "ruler_width": 4,
            "sagittal_nose_left": false,
            "selection_box_color": [
              1,
              1,
              1,
              0.5
            ],
            "show_3D_crosshair": false,
            "text_height": 0.06,
            "thumbnail": "",
            "trust_cal_min_max": true,
            "view_mode_hot_key": "KeyV",
            "width": 640
          }
        },
        "908c18cde9c94ee0a94a58f3f4d7997e": {
          "model_module": "@jupyter-widgets/base",
          "model_name": "LayoutModel",
          "model_module_version": "1.2.0",
          "state": {
            "_model_module": "@jupyter-widgets/base",
            "_model_module_version": "1.2.0",
            "_model_name": "LayoutModel",
            "_view_count": null,
            "_view_module": "@jupyter-widgets/base",
            "_view_module_version": "1.2.0",
            "_view_name": "LayoutView",
            "align_content": null,
            "align_items": null,
            "align_self": null,
            "border": null,
            "bottom": null,
            "display": null,
            "flex": null,
            "flex_flow": null,
            "grid_area": null,
            "grid_auto_columns": null,
            "grid_auto_flow": null,
            "grid_auto_rows": null,
            "grid_column": null,
            "grid_gap": null,
            "grid_row": null,
            "grid_template_areas": null,
            "grid_template_columns": null,
            "grid_template_rows": null,
            "height": null,
            "justify_content": null,
            "justify_items": null,
            "left": null,
            "margin": null,
            "max_height": null,
            "max_width": null,
            "min_height": null,
            "min_width": null,
            "object_fit": null,
            "object_position": null,
            "order": null,
            "overflow": null,
            "overflow_x": null,
            "overflow_y": null,
            "padding": null,
            "right": null,
            "top": null,
            "visibility": null,
            "width": null
          }
        },
        "6ec217a52ab84dbaa47e2002f826e266": {
          "model_module": "@jupyter-widgets/controls",
          "model_name": "DropdownModel",
          "model_module_version": "1.5.0",
          "state": {
            "_dom_classes": [],
            "_model_module": "@jupyter-widgets/controls",
            "_model_module_version": "1.5.0",
            "_model_name": "DropdownModel",
            "_options_labels": [
              "Off",
              "Erase",
              "Red",
              "Green",
              "Blue",
              "Filled Erase",
              "Filled Red",
              "Filled Green",
              "Filled Blue",
              "Erase Selected Cluster"
            ],
            "_view_count": null,
            "_view_module": "@jupyter-widgets/controls",
            "_view_module_version": "1.5.0",
            "_view_name": "DropdownView",
            "description": "Draw color:",
            "description_tooltip": null,
            "disabled": false,
            "index": 0,
            "layout": "IPY_MODEL_daa6de5f596945dab18586cfe6481c42",
            "style": "IPY_MODEL_ec294de4868c4fada0f9cd0357344f41"
          }
        },
        "daa6de5f596945dab18586cfe6481c42": {
          "model_module": "@jupyter-widgets/base",
          "model_name": "LayoutModel",
          "model_module_version": "1.2.0",
          "state": {
            "_model_module": "@jupyter-widgets/base",
            "_model_module_version": "1.2.0",
            "_model_name": "LayoutModel",
            "_view_count": null,
            "_view_module": "@jupyter-widgets/base",
            "_view_module_version": "1.2.0",
            "_view_name": "LayoutView",
            "align_content": null,
            "align_items": null,
            "align_self": null,
            "border": null,
            "bottom": null,
            "display": null,
            "flex": null,
            "flex_flow": null,
            "grid_area": null,
            "grid_auto_columns": null,
            "grid_auto_flow": null,
            "grid_auto_rows": null,
            "grid_column": null,
            "grid_gap": null,
            "grid_row": null,
            "grid_template_areas": null,
            "grid_template_columns": null,
            "grid_template_rows": null,
            "height": null,
            "justify_content": null,
            "justify_items": null,
            "left": null,
            "margin": null,
            "max_height": null,
            "max_width": null,
            "min_height": null,
            "min_width": null,
            "object_fit": null,
            "object_position": null,
            "order": null,
            "overflow": null,
            "overflow_x": null,
            "overflow_y": null,
            "padding": null,
            "right": null,
            "top": null,
            "visibility": null,
            "width": null
          }
        },
        "ec294de4868c4fada0f9cd0357344f41": {
          "model_module": "@jupyter-widgets/controls",
          "model_name": "DescriptionStyleModel",
          "model_module_version": "1.5.0",
          "state": {
            "_model_module": "@jupyter-widgets/controls",
            "_model_module_version": "1.5.0",
            "_model_name": "DescriptionStyleModel",
            "_view_count": null,
            "_view_module": "@jupyter-widgets/base",
            "_view_module_version": "1.2.0",
            "_view_name": "StyleView",
            "description_width": ""
          }
        }
      }
    }
  },
  "nbformat": 4,
  "nbformat_minor": 5
}