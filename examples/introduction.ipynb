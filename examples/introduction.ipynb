{
  "cells": [
    {
      "cell_type": "markdown",
      "metadata": {
        "id": "lhIr7aGS4-W6"
      },
      "source": [
        "# Introduction\n",
        "\n",
        "This notebook show how ipyniivue can be used to visualize a MRI volumes."
      ]
    },
    {
      "cell_type": "markdown",
      "source": [
        "### Installation\n",
        "This notebook can be ran on a local server or on a virtualized environement like Google Colab."
      ],
      "metadata": {
        "id": "ALku_UEtfMO7"
      }
    },
    {
      "cell_type": "code",
      "execution_count": 4,
      "metadata": {
        "id": "SJi60qlC4-W8"
      },
      "outputs": [],
      "source": [
        "#run if using Google Colab or not building from source\n",
        "try:\n",
        "    # -q silence the output from pip. Remove this flag if you need \n",
        "    # to debug an installation issue.\n",
        "    %pip install -q ipyniivue\n",
        "    from google.colab import output\n",
        "    output.enable_custom_widget_manager()\n",
        "except:\n",
        "    pass"
      ]
    },
    {
      "cell_type": "markdown",
      "source": [
        "### Imports"
      ],
      "metadata": {
        "id": "nMZ0AJT-fs08"
      }
    },
    {
      "cell_type": "code",
      "execution_count": 5,
      "metadata": {
        "id": "q99CIADR4-W-"
      },
      "outputs": [],
      "source": [
        "from pathlib import Path\n",
        "import nibabel as nib\n",
        "from nibabel.testing import data_path\n",
        "import ipyniivue"
      ]
    },
    {
      "cell_type": "markdown",
      "source": [
        "### Viewing a local MRI volume\n",
        "\n",
        "Displaying a MRI volume stored locally, as part of the nibabel example files. Note that in this case, we used the `add_object` method because we pass directly a nibabel object."
      ],
      "metadata": {
        "id": "CsT9BWKInoE7"
      }
    },
    {
      "cell_type": "code",
      "source": [
        "example_4d_fname = Path(data_path) / 'example4d.nii.gz'\n",
        "img = nib.load(example_4d_fname)\n",
        "\n",
        "nv = ipyniivue.Niivue(crosshair_color=[0,1,0,1])\n",
        "nv.add_object(img)\n",
        "nv"
      ],
      "metadata": {
        "colab": {
          "base_uri": "https://localhost:8080/",
          "height": 501,
          "referenced_widgets": [
            "d9fd62c2429d4219945d70489efb546c",
            "aae1d828fd1d437e93b464e71657d8bf"
          ]
        },
        "id": "4M9w2ro0nnmV",
        "outputId": "0656c479-2f00-4ae6-f86f-f17974129b76"
      },
      "execution_count": 9,
      "outputs": [
        {
          "output_type": "display_data",
          "data": {
            "text/plain": [
              "ipyniivue.Niivue(back_color=[0.0, 0.0, 0.0, 1.0], clip_plane_color=[1.0, 1.0, 1.0, 0.5], crosshair_color=[0.0,…"
            ],
            "application/vnd.jupyter.widget-view+json": {
              "version_major": 2,
              "version_minor": 0,
              "model_id": "d9fd62c2429d4219945d70489efb546c"
            }
          },
          "metadata": {
            "application/vnd.jupyter.widget-view+json": {
              "colab": {
                "custom_widget_manager": {
                  "url": "https://ssl.gstatic.com/colaboratory-static/widgets/colab-cdn-widget-manager/b3e629b1971e1542/manager.min.js"
                }
              }
            }
          }
        }
      ]
    },
    {
      "cell_type": "markdown",
      "source": [
        "We could have also used the `add_volume` to pass an path."
      ],
      "metadata": {
        "id": "QEW_cTHvxAuy"
      }
    },
    {
      "cell_type": "code",
      "source": [
        "nv = ipyniivue.Niivue(crosshair_color=[0,1,0,1])\n",
        "nv.add_volume(str(example_4d_fname))\n",
        "nv"
      ],
      "metadata": {
        "id": "9Fa9BSYXxAYn",
        "outputId": "bf1fd586-14a6-41f0-ee8c-a191dd138c2e",
        "colab": {
          "base_uri": "https://localhost:8080/",
          "height": 501,
          "referenced_widgets": [
            "ee29c845a0a14dea8cdca7022873c086",
            "6b85b647cf7d46378ea918dec0627ad9"
          ]
        }
      },
      "execution_count": 21,
      "outputs": [
        {
          "output_type": "display_data",
          "data": {
            "text/plain": [
              "ipyniivue.Niivue(back_color=[0.0, 0.0, 0.0, 1.0], clip_plane_color=[1.0, 1.0, 1.0, 0.5], crosshair_color=[0.0,…"
            ],
            "application/vnd.jupyter.widget-view+json": {
              "version_major": 2,
              "version_minor": 0,
              "model_id": "ee29c845a0a14dea8cdca7022873c086"
            }
          },
          "metadata": {
            "application/vnd.jupyter.widget-view+json": {
              "colab": {
                "custom_widget_manager": {
                  "url": "https://ssl.gstatic.com/colaboratory-static/widgets/colab-cdn-widget-manager/b3e629b1971e1542/manager.min.js"
                }
              }
            }
          }
        }
      ]
    },
    {
      "cell_type": "markdown",
      "source": [
        "### Displaying a volume from the internet\n",
        "\n",
        "Objects stored remotely can be displayed directly, without first downloading them to a local directory."
      ],
      "metadata": {
        "id": "1RgMy7MHfuvd"
      }
    },
    {
      "cell_type": "code",
      "execution_count": 8,
      "metadata": {
        "colab": {
          "base_uri": "https://localhost:8080/",
          "height": 501,
          "referenced_widgets": [
            "ddb0b667b7e6495faee422fc6993265e",
            "96cf240a91a140a1b88162ead60b4845"
          ]
        },
        "id": "tglgqcZY4-W-",
        "outputId": "e36be9ae-0053-47ad-b673-8af3c201b537"
      },
      "outputs": [
        {
          "output_type": "display_data",
          "data": {
            "text/plain": [
              "ipyniivue.Niivue(back_color=[0.0, 0.0, 0.0, 1.0], clip_plane_color=[1.0, 1.0, 1.0, 0.5], crosshair_color=[0.0,…"
            ],
            "application/vnd.jupyter.widget-view+json": {
              "version_major": 2,
              "version_minor": 0,
              "model_id": "ddb0b667b7e6495faee422fc6993265e"
            }
          },
          "metadata": {
            "application/vnd.jupyter.widget-view+json": {
              "colab": {
                "custom_widget_manager": {
                  "url": "https://ssl.gstatic.com/colaboratory-static/widgets/colab-cdn-widget-manager/b3e629b1971e1542/manager.min.js"
                }
              }
            }
          }
        }
      ],
      "source": [
        "nv = ipyniivue.Niivue(crosshair_color=[0,1,0,1])\n",
        "nv.add_volume('https://niivue.github.io/niivue/images/mni152.nii.gz')\n",
        "nv"
      ]
    }
  ],
  "metadata": {
    "kernelspec": {
      "display_name": "Python 3 (ipykernel)",
      "language": "python",
      "name": "python3"
    },
    "language_info": {
      "codemirror_mode": {
        "name": "ipython",
        "version": 3
      },
      "file_extension": ".py",
      "mimetype": "text/x-python",
      "name": "python",
      "nbconvert_exporter": "python",
      "pygments_lexer": "ipython3",
      "version": "3.11.3"
    },
    "widgets": {
      "application/vnd.jupyter.widget-state+json": {
        "d9fd62c2429d4219945d70489efb546c": {
          "model_module": "ipyniivue",
          "model_name": "NiivueModel",
          "model_module_version": "^1.0.2",
          "state": {
            "_dom_classes": [],
            "_model_module": "ipyniivue",
            "_model_module_version": "^1.0.2",
            "_model_name": "NiivueModel",
            "_view_count": null,
            "_view_module": "ipyniivue",
            "_view_module_version": "^1.0.2",
            "_view_name": "NiivueView",
            "back_color": [
              0,
              0,
              0,
              1
            ],
            "clip_plane_color": [
              1,
              1,
              1,
              0.5
            ],
            "clip_plane_hot_key": "KeyC",
            "colorbar_height": 0.05,
            "colorbar_margin": 0.05,
            "crosshair_color": [
              0,
              1,
              0,
              1
            ],
            "crosshair_width": 1,
            "double_touch_timeout": 500,
            "drag_and_drop_enabled": true,
            "drag_mode": 1,
            "drawing_enabled": false,
            "font_color": [
              0.5,
              0.5,
              0.5,
              1
            ],
            "height": 480,
            "is_atlas_outline": false,
            "is_colorbar": false,
            "is_corner_orientation_text": false,
            "is_depth_pick_mesh": false,
            "is_filled_pen": false,
            "is_high_resolution_capable": true,
            "is_nearest_interpolation": false,
            "is_orient_cube": false,
            "is_radiological_convention": false,
            "is_ruler": false,
            "is_slice_MM": false,
            "key_debounce_time": 50,
            "layout": "IPY_MODEL_aae1d828fd1d437e93b464e71657d8bf",
            "loading_text": "waiting on images...",
            "long_touch_timeout": 1000,
            "max_draw_undo_bitmaps": 8,
            "mesh_thickness_on_2D": 1.7976931348623157e+308,
            "multiplanar_force_render": false,
            "multiplanar_pad_pixels": 0,
            "pen_value": 1.7976931348623157e+308,
            "ruler_color": [
              1,
              0,
              0,
              0.8
            ],
            "ruler_width": 4,
            "sagittal_nose_left": false,
            "selection_box_color": [
              1,
              1,
              1,
              0.5
            ],
            "show_3D_crosshair": false,
            "text_height": 0.06,
            "thumbnail": "",
            "trust_cal_min_max": true,
            "view_mode_hot_key": "KeyV",
            "width": 640
          }
        },
        "aae1d828fd1d437e93b464e71657d8bf": {
          "model_module": "@jupyter-widgets/base",
          "model_name": "LayoutModel",
          "model_module_version": "1.2.0",
          "state": {
            "_model_module": "@jupyter-widgets/base",
            "_model_module_version": "1.2.0",
            "_model_name": "LayoutModel",
            "_view_count": null,
            "_view_module": "@jupyter-widgets/base",
            "_view_module_version": "1.2.0",
            "_view_name": "LayoutView",
            "align_content": null,
            "align_items": null,
            "align_self": null,
            "border": null,
            "bottom": null,
            "display": null,
            "flex": null,
            "flex_flow": null,
            "grid_area": null,
            "grid_auto_columns": null,
            "grid_auto_flow": null,
            "grid_auto_rows": null,
            "grid_column": null,
            "grid_gap": null,
            "grid_row": null,
            "grid_template_areas": null,
            "grid_template_columns": null,
            "grid_template_rows": null,
            "height": null,
            "justify_content": null,
            "justify_items": null,
            "left": null,
            "margin": null,
            "max_height": null,
            "max_width": null,
            "min_height": null,
            "min_width": null,
            "object_fit": null,
            "object_position": null,
            "order": null,
            "overflow": null,
            "overflow_x": null,
            "overflow_y": null,
            "padding": null,
            "right": null,
            "top": null,
            "visibility": null,
            "width": null
          }
        },
        "ee29c845a0a14dea8cdca7022873c086": {
          "model_module": "ipyniivue",
          "model_name": "NiivueModel",
          "model_module_version": "^1.0.2",
          "state": {
            "_dom_classes": [],
            "_model_module": "ipyniivue",
            "_model_module_version": "^1.0.2",
            "_model_name": "NiivueModel",
            "_view_count": null,
            "_view_module": "ipyniivue",
            "_view_module_version": "^1.0.2",
            "_view_name": "NiivueView",
            "back_color": [
              0,
              0,
              0,
              1
            ],
            "clip_plane_color": [
              1,
              1,
              1,
              0.5
            ],
            "clip_plane_hot_key": "KeyC",
            "colorbar_height": 0.05,
            "colorbar_margin": 0.05,
            "crosshair_color": [
              0,
              1,
              0,
              1
            ],
            "crosshair_width": 1,
            "double_touch_timeout": 500,
            "drag_and_drop_enabled": true,
            "drag_mode": 1,
            "drawing_enabled": false,
            "font_color": [
              0.5,
              0.5,
              0.5,
              1
            ],
            "height": 480,
            "is_atlas_outline": false,
            "is_colorbar": false,
            "is_corner_orientation_text": false,
            "is_depth_pick_mesh": false,
            "is_filled_pen": false,
            "is_high_resolution_capable": true,
            "is_nearest_interpolation": false,
            "is_orient_cube": false,
            "is_radiological_convention": false,
            "is_ruler": false,
            "is_slice_MM": false,
            "key_debounce_time": 50,
            "layout": "IPY_MODEL_6b85b647cf7d46378ea918dec0627ad9",
            "loading_text": "waiting on images...",
            "long_touch_timeout": 1000,
            "max_draw_undo_bitmaps": 8,
            "mesh_thickness_on_2D": 1.7976931348623157e+308,
            "multiplanar_force_render": false,
            "multiplanar_pad_pixels": 0,
            "pen_value": 1.7976931348623157e+308,
            "ruler_color": [
              1,
              0,
              0,
              0.8
            ],
            "ruler_width": 4,
            "sagittal_nose_left": false,
            "selection_box_color": [
              1,
              1,
              1,
              0.5
            ],
            "show_3D_crosshair": false,
            "text_height": 0.06,
            "thumbnail": "",
            "trust_cal_min_max": true,
            "view_mode_hot_key": "KeyV",
            "width": 640
          }
        },
        "6b85b647cf7d46378ea918dec0627ad9": {
          "model_module": "@jupyter-widgets/base",
          "model_name": "LayoutModel",
          "model_module_version": "1.2.0",
          "state": {
            "_model_module": "@jupyter-widgets/base",
            "_model_module_version": "1.2.0",
            "_model_name": "LayoutModel",
            "_view_count": null,
            "_view_module": "@jupyter-widgets/base",
            "_view_module_version": "1.2.0",
            "_view_name": "LayoutView",
            "align_content": null,
            "align_items": null,
            "align_self": null,
            "border": null,
            "bottom": null,
            "display": null,
            "flex": null,
            "flex_flow": null,
            "grid_area": null,
            "grid_auto_columns": null,
            "grid_auto_flow": null,
            "grid_auto_rows": null,
            "grid_column": null,
            "grid_gap": null,
            "grid_row": null,
            "grid_template_areas": null,
            "grid_template_columns": null,
            "grid_template_rows": null,
            "height": null,
            "justify_content": null,
            "justify_items": null,
            "left": null,
            "margin": null,
            "max_height": null,
            "max_width": null,
            "min_height": null,
            "min_width": null,
            "object_fit": null,
            "object_position": null,
            "order": null,
            "overflow": null,
            "overflow_x": null,
            "overflow_y": null,
            "padding": null,
            "right": null,
            "top": null,
            "visibility": null,
            "width": null
          }
        },
        "ddb0b667b7e6495faee422fc6993265e": {
          "model_module": "ipyniivue",
          "model_name": "NiivueModel",
          "model_module_version": "^1.0.2",
          "state": {
            "_dom_classes": [],
            "_model_module": "ipyniivue",
            "_model_module_version": "^1.0.2",
            "_model_name": "NiivueModel",
            "_view_count": null,
            "_view_module": "ipyniivue",
            "_view_module_version": "^1.0.2",
            "_view_name": "NiivueView",
            "back_color": [
              0,
              0,
              0,
              1
            ],
            "clip_plane_color": [
              1,
              1,
              1,
              0.5
            ],
            "clip_plane_hot_key": "KeyC",
            "colorbar_height": 0.05,
            "colorbar_margin": 0.05,
            "crosshair_color": [
              0,
              1,
              0,
              1
            ],
            "crosshair_width": 1,
            "double_touch_timeout": 500,
            "drag_and_drop_enabled": true,
            "drag_mode": 1,
            "drawing_enabled": false,
            "font_color": [
              0.5,
              0.5,
              0.5,
              1
            ],
            "height": 480,
            "is_atlas_outline": false,
            "is_colorbar": false,
            "is_corner_orientation_text": false,
            "is_depth_pick_mesh": false,
            "is_filled_pen": false,
            "is_high_resolution_capable": true,
            "is_nearest_interpolation": false,
            "is_orient_cube": false,
            "is_radiological_convention": false,
            "is_ruler": false,
            "is_slice_MM": false,
            "key_debounce_time": 50,
            "layout": "IPY_MODEL_96cf240a91a140a1b88162ead60b4845",
            "loading_text": "waiting on images...",
            "long_touch_timeout": 1000,
            "max_draw_undo_bitmaps": 8,
            "mesh_thickness_on_2D": 1.7976931348623157e+308,
            "multiplanar_force_render": false,
            "multiplanar_pad_pixels": 0,
            "pen_value": 1.7976931348623157e+308,
            "ruler_color": [
              1,
              0,
              0,
              0.8
            ],
            "ruler_width": 4,
            "sagittal_nose_left": false,
            "selection_box_color": [
              1,
              1,
              1,
              0.5
            ],
            "show_3D_crosshair": false,
            "text_height": 0.06,
            "thumbnail": "",
            "trust_cal_min_max": true,
            "view_mode_hot_key": "KeyV",
            "width": 640
          }
        },
        "96cf240a91a140a1b88162ead60b4845": {
          "model_module": "@jupyter-widgets/base",
          "model_name": "LayoutModel",
          "model_module_version": "1.2.0",
          "state": {
            "_model_module": "@jupyter-widgets/base",
            "_model_module_version": "1.2.0",
            "_model_name": "LayoutModel",
            "_view_count": null,
            "_view_module": "@jupyter-widgets/base",
            "_view_module_version": "1.2.0",
            "_view_name": "LayoutView",
            "align_content": null,
            "align_items": null,
            "align_self": null,
            "border": null,
            "bottom": null,
            "display": null,
            "flex": null,
            "flex_flow": null,
            "grid_area": null,
            "grid_auto_columns": null,
            "grid_auto_flow": null,
            "grid_auto_rows": null,
            "grid_column": null,
            "grid_gap": null,
            "grid_row": null,
            "grid_template_areas": null,
            "grid_template_columns": null,
            "grid_template_rows": null,
            "height": null,
            "justify_content": null,
            "justify_items": null,
            "left": null,
            "margin": null,
            "max_height": null,
            "max_width": null,
            "min_height": null,
            "min_width": null,
            "object_fit": null,
            "object_position": null,
            "order": null,
            "overflow": null,
            "overflow_x": null,
            "overflow_y": null,
            "padding": null,
            "right": null,
            "top": null,
            "visibility": null,
            "width": null
          }
        }
      }
    },
    "colab": {
      "provenance": []
    }
  },
  "nbformat": 4,
  "nbformat_minor": 0
}