{
 "cells": [
  {
   "cell_type": "markdown",
   "metadata": {
    "tags": []
   },
   "source": [
    "# ipyniivue"
   ]
  },
  {
   "cell_type": "code",
   "execution_count": 1,
   "metadata": {},
   "outputs": [],
   "source": [
    "from ipyniivue import Niivue"
   ]
  },
  {
   "cell_type": "code",
   "execution_count": 2,
   "metadata": {},
   "outputs": [
    {
     "data": {
      "application/vnd.jupyter.widget-view+json": {
       "model_id": "d884012c281f4d019d2532322e95000d",
       "version_major": 2,
       "version_minor": 0
      },
      "text/plain": [
       "Niivue(value=None, back_color=[0.0, 0.0, 0.0, 1.0], clip_plane_color=[1.0, 1.0, 1.0, 0.5], crosshair_color=[1.…"
      ]
     },
     "execution_count": 2,
     "metadata": {},
     "output_type": "execute_result"
    }
   ],
   "source": [
    "w = Niivue(loading_text='test')\n",
    "w"
   ]
  },
  {
   "cell_type": "code",
   "execution_count": 3,
   "metadata": {},
   "outputs": [],
   "source": [
    "w.loading_text = 'hello world'"
   ]
  },
  {
   "cell_type": "code",
   "execution_count": 5,
   "metadata": {},
   "outputs": [
    {
     "data": {
      "text/plain": [
       "['__annotations__',\n",
       " '__class__',\n",
       " '__del__',\n",
       " '__delattr__',\n",
       " '__dict__',\n",
       " '__dir__',\n",
       " '__doc__',\n",
       " '__eq__',\n",
       " '__format__',\n",
       " '__ge__',\n",
       " '__getattribute__',\n",
       " '__getstate__',\n",
       " '__gt__',\n",
       " '__hash__',\n",
       " '__init__',\n",
       " '__init_subclass__',\n",
       " '__le__',\n",
       " '__lt__',\n",
       " '__module__',\n",
       " '__ne__',\n",
       " '__new__',\n",
       " '__reduce__',\n",
       " '__reduce_ex__',\n",
       " '__repr__',\n",
       " '__setattr__',\n",
       " '__setstate__',\n",
       " '__sizeof__',\n",
       " '__str__',\n",
       " '__subclasshook__',\n",
       " '__weakref__',\n",
       " '_active_widgets',\n",
       " '_add_notifiers',\n",
       " '_call_widget_constructed',\n",
       " '_comm_changed',\n",
       " '_compare',\n",
       " '_control_comm',\n",
       " '_cross_validation_lock',\n",
       " '_default_keys',\n",
       " '_dom_classes',\n",
       " '_gen_repr_from_keys',\n",
       " '_get_embed_state',\n",
       " '_get_trait_default_generator',\n",
       " '_handle_control_comm_msg',\n",
       " '_handle_custom_msg',\n",
       " '_handle_msg',\n",
       " '_holding_sync',\n",
       " '_is_numpy',\n",
       " '_lock_property',\n",
       " '_log_default',\n",
       " '_model_id',\n",
       " '_model_module',\n",
       " '_model_module_version',\n",
       " '_model_name',\n",
       " '_msg_callbacks',\n",
       " '_notify_observers',\n",
       " '_notify_trait',\n",
       " '_property_lock',\n",
       " '_register_validator',\n",
       " '_remove_notifiers',\n",
       " '_repr_keys',\n",
       " '_repr_mimebundle_',\n",
       " '_send',\n",
       " '_should_send_property',\n",
       " '_states_to_send',\n",
       " '_trait_default_generators',\n",
       " '_trait_from_json',\n",
       " '_trait_notifiers',\n",
       " '_trait_to_json',\n",
       " '_trait_validators',\n",
       " '_trait_values',\n",
       " '_view_count',\n",
       " '_view_module',\n",
       " '_view_module_version',\n",
       " '_view_name',\n",
       " '_widget_construction_callback',\n",
       " '_widget_types',\n",
       " 'add_class',\n",
       " 'add_traits',\n",
       " 'back_color',\n",
       " 'blur',\n",
       " 'class_own_trait_events',\n",
       " 'class_own_traits',\n",
       " 'class_trait_names',\n",
       " 'class_traits',\n",
       " 'clip_plane_color',\n",
       " 'clip_plane_hot_key',\n",
       " 'close',\n",
       " 'close_all',\n",
       " 'colorbar_height',\n",
       " 'colorbar_margin',\n",
       " 'comm',\n",
       " 'cross_validation_lock',\n",
       " 'crosshair_color',\n",
       " 'crosshair_width',\n",
       " 'double_touch_timeout',\n",
       " 'drag_and_drop_enabled',\n",
       " 'drag_mode',\n",
       " 'drawing_enabled',\n",
       " 'focus',\n",
       " 'get_interact_value',\n",
       " 'get_manager_state',\n",
       " 'get_state',\n",
       " 'get_view_spec',\n",
       " 'handle_comm_opened',\n",
       " 'handle_control_comm_opened',\n",
       " 'has_trait',\n",
       " 'height',\n",
       " 'hold_sync',\n",
       " 'hold_trait_notifications',\n",
       " 'is_atlas_outline',\n",
       " 'is_colorbar',\n",
       " 'is_corner_orientation_text',\n",
       " 'is_depth_pick_mesh',\n",
       " 'is_filled_pen',\n",
       " 'is_high_resolution_capable',\n",
       " 'is_nearest_interpolation',\n",
       " 'is_orient_cube',\n",
       " 'is_radiological_convention',\n",
       " 'is_ruler',\n",
       " 'is_slice_MM',\n",
       " 'key_debounce_time',\n",
       " 'keys',\n",
       " 'layout',\n",
       " 'load_volumes',\n",
       " 'loading_text',\n",
       " 'log',\n",
       " 'logging',\n",
       " 'long_touch_timeout',\n",
       " 'max_draw_undo_bitmaps',\n",
       " 'mesh_thickness_on_2D',\n",
       " 'model_id',\n",
       " 'multiplanar_pad_pixels',\n",
       " 'notify_change',\n",
       " 'observe',\n",
       " 'on_msg',\n",
       " 'on_trait_change',\n",
       " 'on_widget_constructed',\n",
       " 'open',\n",
       " 'pen_value',\n",
       " 'remove_class',\n",
       " 'ruler_color',\n",
       " 'ruler_width',\n",
       " 'sagittal_nose_left',\n",
       " 'selection_box_color',\n",
       " 'send',\n",
       " 'send_state',\n",
       " 'set_height',\n",
       " 'set_state',\n",
       " 'set_trait',\n",
       " 'setup_instance',\n",
       " 'show_3D_crosshair',\n",
       " 'tabbable',\n",
       " 'text_height',\n",
       " 'thumbnail',\n",
       " 'tooltip',\n",
       " 'trait_defaults',\n",
       " 'trait_events',\n",
       " 'trait_has_value',\n",
       " 'trait_metadata',\n",
       " 'trait_names',\n",
       " 'trait_values',\n",
       " 'traits',\n",
       " 'trust_cal_min_max',\n",
       " 'unobserve',\n",
       " 'unobserve_all',\n",
       " 'value',\n",
       " 'view_mode_hot_key',\n",
       " 'volumes']"
      ]
     },
     "execution_count": 5,
     "metadata": {},
     "output_type": "execute_result"
    }
   ],
   "source": [
    "dir(w)"
   ]
  },
  {
   "cell_type": "code",
   "execution_count": 7,
   "metadata": {},
   "outputs": [],
   "source": [
    "python_names = ['text_height', 'colorbar_height', 'colorbar_margin', 'crosshair_width', 'ruler_width', 'back_color', 'crosshair_color', 'selection_box_color', 'clip_plane_color', 'ruler_color', 'show_3D_crosshair', 'trust_cal_min_max', 'clip_plane_hot_key', 'view_mode_hot_key', 'key_debounce_time', 'double_touch_timeout', 'long_touch_timeout', 'is_radiological_convention', 'logging', 'loading_text', 'drag_and_drop_enabled', 'is_nearest_interpolation', 'is_atlas_outline', 'is_ruler', 'is_colorbar', 'is_orient_cube', 'multiplanar_pad_pixels', 'mesh_thickness_on_2D', 'drag_mode', 'is_depth_pick_mesh', 'is_corner_orientation_text', 'sagittal_nose_left', 'is_slice_MM', 'is_high_resolution_capable', 'drawing_enabled', 'pen_value', 'is_filled_pen', 'max_draw_undo_bitmaps', 'thumbnail = \"\"']"
   ]
  },
  {
   "cell_type": "code",
   "execution_count": 9,
   "metadata": {},
   "outputs": [
    {
     "name": "stdout",
     "output_type": "stream",
     "text": [
      "Help on Float in module traitlets.traitlets:\n",
      "\n",
      "\n"
     ]
    },
    {
     "data": {
      "text/plain": [
       "'None'"
      ]
     },
     "execution_count": 9,
     "metadata": {},
     "output_type": "execute_result"
    }
   ],
   "source": [
    "str(help(Niivue.text_height))"
   ]
  },
  {
   "cell_type": "code",
   "execution_count": null,
   "metadata": {},
   "outputs": [],
   "source": []
  }
 ],
 "metadata": {
  "kernelspec": {
   "display_name": "Python 3 (ipykernel)",
   "language": "python",
   "name": "python3"
  },
  "language_info": {
   "codemirror_mode": {
    "name": "ipython",
    "version": 3
   },
   "file_extension": ".py",
   "mimetype": "text/x-python",
   "name": "python",
   "nbconvert_exporter": "python",
   "pygments_lexer": "ipython3",
   "version": "3.10.6"
  }
 },
 "nbformat": 4,
 "nbformat_minor": 4
}
