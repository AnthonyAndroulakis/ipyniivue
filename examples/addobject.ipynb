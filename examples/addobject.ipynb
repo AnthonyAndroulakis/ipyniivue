{
 "cells": [
  {
   "cell_type": "code",
   "execution_count": 1,
   "id": "2f37c304-0bb5-4dca-8c42-6831d2f87b7b",
   "metadata": {
    "tags": []
   },
   "outputs": [
    {
     "name": "stdout",
     "output_type": "stream",
     "text": [
      "Collecting nibabel\n",
      "  Downloading nibabel-5.0.1-py3-none-any.whl (3.3 MB)\n",
      "\u001b[2K     \u001b[90m━━━━━━━━━━━━━━━━━━━━━━━━━━━━━━━━━━━━━━━━\u001b[0m \u001b[32m3.3/3.3 MB\u001b[0m \u001b[31m10.8 MB/s\u001b[0m eta \u001b[36m0:00:00\u001b[0m00:01\u001b[0m00:01\u001b[0m\n",
      "\u001b[?25hCollecting numpy>=1.19\n",
      "  Downloading numpy-1.24.2-cp311-cp311-macosx_10_9_x86_64.whl (19.8 MB)\n",
      "\u001b[2K     \u001b[90m━━━━━━━━━━━━━━━━━━━━━━━━━━━━━━━━━━━━━━━━\u001b[0m \u001b[32m19.8/19.8 MB\u001b[0m \u001b[31m15.4 MB/s\u001b[0m eta \u001b[36m0:00:00\u001b[0m00:01\u001b[0m00:01\u001b[0m\n",
      "\u001b[?25hRequirement already satisfied: packaging>=17 in /usr/local/anaconda3/envs/ipyniivue-dev-feb26/lib/python3.11/site-packages (from nibabel) (23.0)\n",
      "Requirement already satisfied: setuptools in /usr/local/anaconda3/envs/ipyniivue-dev-feb26/lib/python3.11/site-packages (from nibabel) (67.4.0)\n",
      "Installing collected packages: numpy, nibabel\n",
      "Successfully installed nibabel-5.0.1 numpy-1.24.2\n",
      "Note: you may need to restart the kernel to use updated packages.\n"
     ]
    }
   ],
   "source": [
    "import ipyniivue\n",
    "\n",
    "%pip install nibabel\n",
    "import nibabel"
   ]
  },
  {
   "cell_type": "code",
   "execution_count": null,
   "id": "730697dc-a332-4649-955f-0b9639548a09",
   "metadata": {
    "tags": []
   },
   "outputs": [],
   "source": [
    "nib = nibabel.load('./demo_images/mni152.nii.gz')\n",
    "\n",
    "nv = ipyniivue.Niivue(crosshair_color=[0,1,0,1])\n",
    "nv.add_object(nib)\n",
    "nv"
   ]
  },
  {
   "cell_type": "code",
   "execution_count": null,
   "id": "e8a8665a-c93e-4e5a-8491-18e58d91af98",
   "metadata": {},
   "outputs": [],
   "source": []
  }
 ],
 "metadata": {
  "kernelspec": {
   "display_name": "Python 3 (ipykernel)",
   "language": "python",
   "name": "python3"
  },
  "language_info": {
   "codemirror_mode": {
    "name": "ipython",
    "version": 3
   },
   "file_extension": ".py",
   "mimetype": "text/x-python",
   "name": "python",
   "nbconvert_exporter": "python",
   "pygments_lexer": "ipython3",
   "version": "3.11.0"
  },
  "widgets": {
   "application/vnd.jupyter.widget-state+json": {
    "state": {},
    "version_major": 2,
    "version_minor": 0
   }
  }
 },
 "nbformat": 4,
 "nbformat_minor": 5
}
