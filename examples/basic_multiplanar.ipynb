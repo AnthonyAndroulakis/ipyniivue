{
 "cells": [
  {
   "cell_type": "code",
   "execution_count": null,
   "metadata": {},
   "outputs": [],
   "source": [
    "!mkdir -p ../images/\n",
    "path = \"https://niivue.github.io/niivue/images/\"\n",
    "!wget -nc {path}mni152.nii.gz -P ../images/\n",
    "!wget -nc {path}hippo.nii.gz -P ../images/"
   ]
  },
  {
   "cell_type": "code",
   "execution_count": null,
   "metadata": {},
   "outputs": [],
   "source": [
    "from ipyniivue import NiiVue, SliceType\n",
    "\n",
    "# based on https://niivue.github.io/niivue/features/basic.multiplanar.html\n",
    "\n",
    "volumes = [\n",
    "    {\n",
    "        \"path\": \"../images/mni152.nii.gz\",\n",
    "        \"colormap\": \"gray\",\n",
    "        \"visible\": True,\n",
    "        \"opacity\": 1.0,\n",
    "    },\n",
    "    {\n",
    "        \"path\": \"../images/hippo.nii.gz\",\n",
    "        \"colormap\": \"red\",\n",
    "        \"visible\": True,\n",
    "        \"opacity\": 1,\n",
    "    },\n",
    "]\n",
    "nv = NiiVue(slice_type=SliceType.MULTIPLANAR)\n",
    "nv.load_volumes(volumes)\n",
    "nv2 = NiiVue()\n",
    "nv2.load_volumes([volumes[1]])"
   ]
  },
  {
   "cell_type": "code",
   "execution_count": null,
   "metadata": {},
   "outputs": [],
   "source": [
    "display(nv2)\n",
    "display(nv)"
   ]
  },
  {
   "cell_type": "code",
   "execution_count": null,
   "metadata": {},
   "outputs": [],
   "source": [
    "nv.show_3d_crosshair = True\n",
    "nv.crosshair_color = [0, 0, 0, 0]\n",
    "nv.back_color = [1, 1, 1, 1]\n",
    "nv.clip_plane_color = [0, 1, 1, 1]\n",
    "nv.is_colorbar = True\n",
    "nv.view_mode_hot_key = \"KeyN\""
   ]
  },
  {
   "cell_type": "code",
   "execution_count": null,
   "metadata": {},
   "outputs": [],
   "source": [
    "nv.set_crosshair_color((0, 1, 0, 1))"
   ]
  },
  {
   "cell_type": "code",
   "execution_count": null,
   "metadata": {},
   "outputs": [],
   "source": [
    "nv"
   ]
  },
  {
   "cell_type": "code",
   "execution_count": null,
   "metadata": {},
   "outputs": [],
   "source": []
  }
 ],
 "metadata": {
  "kernelspec": {
   "display_name": "Python 3 (ipykernel)",
   "language": "python",
   "name": "python3"
  },
  "language_info": {
   "codemirror_mode": {
    "name": "ipython",
    "version": 3
   },
   "file_extension": ".py",
   "mimetype": "text/x-python",
   "name": "python",
   "nbconvert_exporter": "python",
   "pygments_lexer": "ipython3",
   "version": "3.9.13"
  },
  "widgets": {
   "application/vnd.jupyter.widget-state+json": {
    "state": {},
    "version_major": 2,
    "version_minor": 0
   }
  }
 },
 "nbformat": 4,
 "nbformat_minor": 4
}
