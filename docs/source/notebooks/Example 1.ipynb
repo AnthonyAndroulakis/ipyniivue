{
 "cells": [
  {
   "cell_type": "markdown",
   "metadata": {},
   "source": [
    "# Introduction"
   ]
  },
  {
   "cell_type": "code",
   "execution_count": 9,
   "metadata": {},
   "outputs": [],
   "source": [
    "import ipyniivue"
   ]
  },
  {
   "cell_type": "code",
   "execution_count": 10,
   "metadata": {},
   "outputs": [
    {
     "data": {
      "application/vnd.jupyter.widget-view+json": {
       "model_id": "3723075952544726adfb0bcbc92fb51e",
       "version_major": 2,
       "version_minor": 0
      },
      "text/plain": [
       "Niivue(back_color=[0.0, 0.0, 0.0, 1.0], clip_plane_color=[1.0, 1.0, 1.0, 0.5], crosshair_color=[0.0, 1.0, 0.0,…"
      ]
     },
     "execution_count": 10,
     "metadata": {},
     "output_type": "execute_result"
    }
   ],
   "source": [
    "nv = ipyniivue.Niivue(crosshair_color=[0,1,0,1])\n",
    "nv.add_volume('https://niivue.github.io/niivue/images/mni152.nii.gz')\n",
    "nv"
   ]
  },
  {
   "cell_type": "code",
   "execution_count": 11,
   "metadata": {},
   "outputs": [],
   "source": [
    "nv.set_opacity(0, 0.5)"
   ]
  },
  {
   "cell_type": "code",
   "execution_count": null,
   "metadata": {},
   "outputs": [],
   "source": []
  }
 ],
 "metadata": {
  "kernelspec": {
   "display_name": "Python 3 (ipykernel)",
   "language": "python",
   "name": "python3"
  },
  "language_info": {
   "codemirror_mode": {
    "name": "ipython",
    "version": 3
   },
   "file_extension": ".py",
   "mimetype": "text/x-python",
   "name": "python",
   "nbconvert_exporter": "python",
   "pygments_lexer": "ipython3",
   "version": "3.11.0"
  },
  "widgets": {
   "application/vnd.jupyter.widget-state+json": {
    "state": {
     "3723075952544726adfb0bcbc92fb51e": {
      "model_module": "ipyniivue",
      "model_module_version": "^0.1.0",
      "model_name": "NiivueModel",
      "state": {
       "_model_module_version": "^0.1.0",
       "_view_module_version": "^0.1.0",
       "back_color": [
        0,
        0,
        0,
        1
       ],
       "clip_plane_color": [
        1,
        1,
        1,
        0.5
       ],
       "clip_plane_hot_key": "KeyC",
       "colorbar_height": 0.05,
       "colorbar_margin": 0.05,
       "crosshair_color": [
        0,
        1,
        0,
        1
       ],
       "crosshair_width": 1,
       "double_touch_timeout": 500,
       "drag_and_drop_enabled": true,
       "drag_mode": 1,
       "drawing_enabled": false,
       "font_color": [
        0.5,
        0.5,
        0.5,
        1
       ],
       "is_atlas_outline": false,
       "is_colorbar": false,
       "is_corner_orientation_text": false,
       "is_depth_pick_mesh": false,
       "is_filled_pen": false,
       "is_high_resolution_capable": true,
       "is_nearest_interpolation": false,
       "is_orient_cube": false,
       "is_radiological_convention": false,
       "is_ruler": false,
       "is_slice_MM": false,
       "key_debounce_time": 50,
       "layout": "IPY_MODEL_c81436923d95433b9d7f7b247b86fba6",
       "loading_text": "waiting on images...",
       "long_touch_timeout": 1000,
       "max_draw_undo_bitmaps": 8,
       "mesh_thickness_on_2D": 1.7976931348623157e+308,
       "multiplanar_force_render": false,
       "multiplanar_pad_pixels": 0,
       "pen_value": 1.7976931348623157e+308,
       "ruler_color": [
        1,
        0,
        0,
        0.8
       ],
       "ruler_width": 4,
       "sagittal_nose_left": false,
       "selection_box_color": [
        1,
        1,
        1,
        0.5
       ],
       "show_3D_crosshair": false,
       "text_height": 0.06,
       "thumbnail": "",
       "trust_cal_min_max": true,
       "value": "",
       "view_mode_hot_key": "KeyV"
      }
     },
     "789f4c7aa51e4423a79b5bb5ce2465d1": {
      "model_module": "@jupyter-widgets/base",
      "model_module_version": "2.0.0",
      "model_name": "LayoutModel",
      "state": {}
     },
     "b5253d80406947898ef4ca3948b84740": {
      "model_module": "ipyniivue",
      "model_module_version": "^0.1.0",
      "model_name": "NiivueModel",
      "state": {
       "_model_module_version": "^0.1.0",
       "_view_module_version": "^0.1.0",
       "back_color": [
        0,
        0,
        0,
        1
       ],
       "clip_plane_color": [
        1,
        1,
        1,
        0.5
       ],
       "clip_plane_hot_key": "KeyC",
       "colorbar_height": 0.05,
       "colorbar_margin": 0.05,
       "crosshair_color": [
        0,
        1,
        0,
        1
       ],
       "crosshair_width": 1,
       "double_touch_timeout": 500,
       "drag_and_drop_enabled": true,
       "drag_mode": 1,
       "drawing_enabled": false,
       "font_color": [
        0.5,
        0.5,
        0.5,
        1
       ],
       "is_atlas_outline": false,
       "is_colorbar": false,
       "is_corner_orientation_text": false,
       "is_depth_pick_mesh": false,
       "is_filled_pen": false,
       "is_high_resolution_capable": true,
       "is_nearest_interpolation": false,
       "is_orient_cube": false,
       "is_radiological_convention": false,
       "is_ruler": false,
       "is_slice_MM": false,
       "key_debounce_time": 50,
       "layout": "IPY_MODEL_789f4c7aa51e4423a79b5bb5ce2465d1",
       "loading_text": "waiting on images...",
       "long_touch_timeout": 1000,
       "max_draw_undo_bitmaps": 8,
       "mesh_thickness_on_2D": 1.7976931348623157e+308,
       "multiplanar_force_render": false,
       "multiplanar_pad_pixels": 0,
       "pen_value": 1.7976931348623157e+308,
       "ruler_color": [
        1,
        0,
        0,
        0.8
       ],
       "ruler_width": 4,
       "sagittal_nose_left": false,
       "selection_box_color": [
        1,
        1,
        1,
        0.5
       ],
       "show_3D_crosshair": false,
       "text_height": 0.06,
       "thumbnail": "",
       "trust_cal_min_max": true,
       "value": "",
       "view_mode_hot_key": "KeyV"
      }
     },
     "c81436923d95433b9d7f7b247b86fba6": {
      "model_module": "@jupyter-widgets/base",
      "model_module_version": "2.0.0",
      "model_name": "LayoutModel",
      "state": {}
     },
     "d6f7d379d6d740b0b57f41c1aab680e9": {
      "model_module": "ipyniivue",
      "model_module_version": "^0.1.0",
      "model_name": "NiivueModel",
      "state": {
       "_model_module_version": "^0.1.0",
       "_view_module_version": "^0.1.0",
       "back_color": [
        0,
        0,
        0,
        1
       ],
       "clip_plane_color": [
        1,
        1,
        1,
        0.5
       ],
       "clip_plane_hot_key": "KeyC",
       "colorbar_height": 0.05,
       "colorbar_margin": 0.05,
       "crosshair_color": [
        0,
        1,
        0,
        1
       ],
       "crosshair_width": 1,
       "double_touch_timeout": 500,
       "drag_and_drop_enabled": true,
       "drag_mode": 1,
       "drawing_enabled": false,
       "font_color": [
        0.5,
        0.5,
        0.5,
        1
       ],
       "is_atlas_outline": false,
       "is_colorbar": false,
       "is_corner_orientation_text": false,
       "is_depth_pick_mesh": false,
       "is_filled_pen": false,
       "is_high_resolution_capable": true,
       "is_nearest_interpolation": false,
       "is_orient_cube": false,
       "is_radiological_convention": false,
       "is_ruler": false,
       "is_slice_MM": false,
       "key_debounce_time": 50,
       "layout": "IPY_MODEL_f65d237c06f647e3b5020ce2f2914a88",
       "loading_text": "waiting on images...",
       "long_touch_timeout": 1000,
       "max_draw_undo_bitmaps": 8,
       "mesh_thickness_on_2D": 1.7976931348623157e+308,
       "multiplanar_force_render": false,
       "multiplanar_pad_pixels": 0,
       "pen_value": 1.7976931348623157e+308,
       "ruler_color": [
        1,
        0,
        0,
        0.8
       ],
       "ruler_width": 4,
       "sagittal_nose_left": false,
       "selection_box_color": [
        1,
        1,
        1,
        0.5
       ],
       "show_3D_crosshair": false,
       "text_height": 0.06,
       "thumbnail": "",
       "trust_cal_min_max": true,
       "value": "",
       "view_mode_hot_key": "KeyV"
      }
     },
     "f65d237c06f647e3b5020ce2f2914a88": {
      "model_module": "@jupyter-widgets/base",
      "model_module_version": "2.0.0",
      "model_name": "LayoutModel",
      "state": {}
     }
    },
    "version_major": 2,
    "version_minor": 0
   }
  }
 },
 "nbformat": 4,
 "nbformat_minor": 4
}
